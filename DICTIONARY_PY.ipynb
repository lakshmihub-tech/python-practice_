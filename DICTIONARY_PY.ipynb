{
  "nbformat": 4,
  "nbformat_minor": 0,
  "metadata": {
    "colab": {
      "provenance": [],
      "authorship_tag": "ABX9TyMSpMCZHM9z7UpL0P6KO9ar",
      "include_colab_link": true
    },
    "kernelspec": {
      "name": "python3",
      "display_name": "Python 3"
    },
    "language_info": {
      "name": "python"
    }
  },
  "cells": [
    {
      "cell_type": "markdown",
      "metadata": {
        "id": "view-in-github",
        "colab_type": "text"
      },
      "source": [
        "<a href=\"https://colab.research.google.com/github/lakshmihub-tech/python-practice_/blob/main/DICTIONARY_PY.ipynb\" target=\"_parent\"><img src=\"https://colab.research.google.com/assets/colab-badge.svg\" alt=\"Open In Colab\"/></a>"
      ]
    },
    {
      "cell_type": "code",
      "execution_count": null,
      "metadata": {
        "colab": {
          "base_uri": "https://localhost:8080/"
        },
        "id": "PEXe-y5vRV4F",
        "outputId": "b36cde94-2a23-48aa-f42b-650eae29c486"
      },
      "outputs": [
        {
          "output_type": "stream",
          "name": "stdout",
          "text": [
            "{}\n",
            "{}\n",
            "<class 'dict'>\n",
            "<class 'dict'>\n"
          ]
        }
      ],
      "source": [
        "#creating dictionary\n",
        "#empty dictionary\n",
        "d1={}\n",
        "D2=dict()\n",
        "print(d1)\n",
        "print(D2)\n",
        "print(type(d1))\n",
        "print(type(D2))"
      ]
    },
    {
      "cell_type": "code",
      "source": [
        "#dictionary with data\n",
        "fruits={\"apple\":20,\"banana\":10,\"grap\":1}\n",
        "print(fruits)\n",
        "print(fruits['apple'])"
      ],
      "metadata": {
        "colab": {
          "base_uri": "https://localhost:8080/"
        },
        "id": "j5SI3a-qSo7S",
        "outputId": "539e5845-26c9-4361-d138-ec1bfb949354"
      },
      "execution_count": null,
      "outputs": [
        {
          "output_type": "stream",
          "name": "stdout",
          "text": [
            "{'apple': 20, 'banana': 10, 'grap': 1}\n",
            "20\n"
          ]
        }
      ]
    },
    {
      "cell_type": "code",
      "source": [
        "#using dict() constructor\n",
        "vamsigroup = dict(name=\"vamsi\",age=24,course=\"foodengineer\")\n",
        "print(vamsigroup)\n",
        "print(vamsigroup[\"age\"])"
      ],
      "metadata": {
        "colab": {
          "base_uri": "https://localhost:8080/"
        },
        "id": "MdHO0eAxTHI7",
        "outputId": "c547edb7-7470-4551-ba20-f4d00b3dedd8"
      },
      "execution_count": null,
      "outputs": [
        {
          "output_type": "stream",
          "name": "stdout",
          "text": [
            "{'name': 'vamsi', 'age': 24, 'course': 'foodengineer'}\n",
            "24\n"
          ]
        }
      ]
    },
    {
      "cell_type": "code",
      "source": [
        "#nested dictionary\n",
        "emp={\"id\":201,\"name\":\"rahul\",\"skills\":{\"python\":\"intermediate\",\"sal\":\"advanced\"}}\n",
        "print(emp)\n",
        "print(emp[\"skills\"])\n",
        "print(emp[\"skills\"][\"sal\"])"
      ],
      "metadata": {
        "colab": {
          "base_uri": "https://localhost:8080/"
        },
        "id": "a7t5RHWVVvH2",
        "outputId": "991ba022-0b2d-4348-e7b6-0a88f39cab04"
      },
      "execution_count": null,
      "outputs": [
        {
          "output_type": "stream",
          "name": "stdout",
          "text": [
            "{'id': 201, 'name': 'rahul', 'skills': {'python': 'intermediate', 'sal': 'advanced'}}\n",
            "{'python': 'intermediate', 'sal': 'advanced'}\n",
            "advanced\n"
          ]
        }
      ]
    },
    {
      "cell_type": "code",
      "source": [
        "#from list of tuples\n",
        "data=[(\"a\",1),(\"b\",2)]\n",
        "d=dict(data)\n",
        "print(d)"
      ],
      "metadata": {
        "colab": {
          "base_uri": "https://localhost:8080/"
        },
        "id": "3ajIPOGgXKE1",
        "outputId": "bace98c6-5a54-466a-a58f-46d7c6e018d0"
      },
      "execution_count": null,
      "outputs": [
        {
          "output_type": "stream",
          "name": "stdout",
          "text": [
            "{'a': 1, 'b': 2}\n"
          ]
        }
      ]
    },
    {
      "cell_type": "code",
      "source": [
        "#2 accessing dictionary values\n",
        "#dict[key]\n",
        "#dict.get(key)\n",
        "car={\"name\":\"audi\",\"model\":\"ev\",\"design\":\"old\",\"year\":2025}\n",
        "print(car[\"name\"])\n",
        "print(car[\"year\"])\n",
        "print(car.get(\"age\"))\n",
        "print(car.get(\"name\"))\n",
        "print(car.get(\"speed\",\"emo ra\"))"
      ],
      "metadata": {
        "colab": {
          "base_uri": "https://localhost:8080/"
        },
        "id": "A7kBTC-PXooQ",
        "outputId": "89f9cf09-6096-46d4-8354-4b6e814147d7"
      },
      "execution_count": null,
      "outputs": [
        {
          "output_type": "stream",
          "name": "stdout",
          "text": [
            "audi\n",
            "2025\n",
            "None\n",
            "audi\n",
            "emo ra\n"
          ]
        }
      ]
    },
    {
      "cell_type": "code",
      "source": [
        "#modifing dictionaries in python\n",
        "#update values\n",
        "student={\"name\":\"data science\",\"relation\":\"na mogudu\",\"id\":17}\n",
        "print(student[\"name\"])\n",
        "print(student.get(\"name\"))\n",
        "student[\"id\"]=\"calm\"\n",
        "print(student)\n",
        "student[\"relation\"]= \"evadu eedu\"\n",
        "print(student)\n",
        "#update a value\n",
        "student[\"age\"]=30\n",
        "student[\"status\"]=\"married\"\n",
        "print(student)\n",
        "\n"
      ],
      "metadata": {
        "colab": {
          "base_uri": "https://localhost:8080/"
        },
        "id": "e1Q4fQnMaCuK",
        "outputId": "c6ae8d96-0d35-4edf-e902-e6cbb14d6fc1"
      },
      "execution_count": null,
      "outputs": [
        {
          "output_type": "stream",
          "name": "stdout",
          "text": [
            "data science\n",
            "data science\n",
            "{'name': 'data science', 'relation': 'na mogudu', 'id': 'calm'}\n",
            "{'name': 'data science', 'relation': 'evadu eedu', 'id': 'calm'}\n",
            "{'name': 'data science', 'relation': 'evadu eedu', 'id': 'calm', 'age': 30, 'status': 'married'}\n"
          ]
        }
      ]
    },
    {
      "cell_type": "code",
      "source": [
        "#removing items\n",
        "#del keyword\n",
        "fruits={\"apple\":10,\"banana\":5,\"mango\":15}\n",
        "del fruits[\"apple\"]\n",
        "print(fruits)\n",
        "del fruits[\"mango\"]\n",
        "print(fruits)\n",
        "#pop(key)\n",
        "marks={\"math\":100,\"telugu\":98,\"social\":\"nullra\"}\n",
        "s=marks.pop(\"math\")\n",
        "print(s)\n",
        "print(marks)\n",
        "#pop(item)\n",
        "marks={\"math\":100,\"telugu\":98,\"social\":99}\n",
        "marks.popitem()\n",
        "print(marks)\n",
        "marks.clear()\n",
        "print(marks)\n",
        "\n",
        "\n"
      ],
      "metadata": {
        "colab": {
          "base_uri": "https://localhost:8080/"
        },
        "id": "eEXGj8QtgsAW",
        "outputId": "cc26169a-351f-4976-dd40-af2acd6c3439"
      },
      "execution_count": null,
      "outputs": [
        {
          "output_type": "stream",
          "name": "stdout",
          "text": [
            "{'banana': 5, 'mango': 15}\n",
            "{'banana': 5}\n",
            "100\n",
            "{'telugu': 98, 'social': 'nullra'}\n",
            "{'math': 100, 'telugu': 98}\n",
            "{}\n"
          ]
        }
      ]
    },
    {
      "cell_type": "code",
      "source": [
        "#dictionary methods\n",
        "person={\"name\":\"venky\",\"age\":100,\"status\":\"active\"}\n",
        "print(person)\n",
        "print(person.get(\"name\"))\n",
        "print(person.get(\"report\"))\n",
        "print(person.get(\"id\",\"ledhu ra\"))\n",
        "print(person.keys())\n",
        "print(person.values())\n",
        "print(person.items())\n",
        "person[\"name\"]=\"lakku\"\n",
        "person.update({\"sinle\":\"no\"})\n",
        "print(person)\n",
        "person.clear()\n",
        "print(person)\n",
        "s={\"me\":\"mee\",\"money\":\"mine\"}\n",
        "s_n=s.copy()\n",
        "print(s_n)\n",
        "\n"
      ],
      "metadata": {
        "colab": {
          "base_uri": "https://localhost:8080/"
        },
        "id": "Utl43sfFlv9w",
        "outputId": "13214a50-bb99-4add-f9a7-4a4f42368178"
      },
      "execution_count": null,
      "outputs": [
        {
          "output_type": "stream",
          "name": "stdout",
          "text": [
            "{'name': 'venky', 'age': 100, 'status': 'active'}\n",
            "venky\n",
            "None\n",
            "ledhu ra\n",
            "dict_keys(['name', 'age', 'status'])\n",
            "dict_values(['venky', 100, 'active'])\n",
            "dict_items([('name', 'venky'), ('age', 100), ('status', 'active')])\n",
            "{'name': 'lakku', 'age': 100, 'status': 'active', 'sinle': 'no'}\n",
            "{}\n",
            "{'me': 'mee', 'money': 'mine'}\n"
          ]
        }
      ]
    }
  ]
}