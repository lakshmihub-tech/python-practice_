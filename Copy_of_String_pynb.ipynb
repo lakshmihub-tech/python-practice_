{
  "nbformat": 4,
  "nbformat_minor": 0,
  "metadata": {
    "colab": {
      "provenance": [],
      "authorship_tag": "ABX9TyO/X6UMrsTlw4ujVGmKn5Qm",
      "include_colab_link": true
    },
    "kernelspec": {
      "name": "python3",
      "display_name": "Python 3"
    },
    "language_info": {
      "name": "python"
    }
  },
  "cells": [
    {
      "cell_type": "markdown",
      "metadata": {
        "id": "view-in-github",
        "colab_type": "text"
      },
      "source": [
        "<a href=\"https://colab.research.google.com/github/lakshmihub-tech/python-practice_/blob/main/Copy_of_String_pynb.ipynb\" target=\"_parent\"><img src=\"https://colab.research.google.com/assets/colab-badge.svg\" alt=\"Open In Colab\"/></a>"
      ]
    },
    {
      "cell_type": "code",
      "execution_count": null,
      "metadata": {
        "colab": {
          "base_uri": "https://localhost:8080/"
        },
        "id": "ZozcyePlgaVK",
        "outputId": "c705812c-bac5-4bda-d8c1-a02ff7c8c9c2"
      },
      "outputs": [
        {
          "output_type": "stream",
          "name": "stdout",
          "text": [
            "rama\n",
            "rama\n",
            "I am from Andrapradesh\n"
          ]
        }
      ],
      "source": [
        "#Data types\n",
        "#string\n",
        "#creating a string\n",
        "s1='rama'\n",
        "s2=\"rama\"\n",
        "#Multiline strings\n",
        "s3='''I am from Andrapradesh'''\n",
        "print(s1)\n",
        "print(s2)\n",
        "print(s3)\n",
        "\n"
      ]
    },
    {
      "cell_type": "code",
      "source": [
        "#Accessing  characters in python string\n",
        "s=\"Data science is future\"\n",
        "#accessing first character 'D'\n",
        "print(s[0])\n",
        "#accessing fifth character 's'\n",
        "print(s[5])\n",
        "print(s[4])\n",
        "print(s[19])\n",
        "print(s[21])\n",
        "\n"
      ],
      "metadata": {
        "colab": {
          "base_uri": "https://localhost:8080/"
        },
        "id": "EIE3ka72hco1",
        "outputId": "f70520ac-bb63-466a-a33e-52b3b60ac0d6"
      },
      "execution_count": null,
      "outputs": [
        {
          "output_type": "stream",
          "name": "stdout",
          "text": [
            "D\n",
            "s\n",
            " \n",
            "u\n",
            "e\n"
          ]
        }
      ]
    },
    {
      "cell_type": "code",
      "source": [
        "#Acessing string with negative indexing\n",
        "s=\"life is wife,wife is life\"\n",
        "#accessing  third character 'i'\n",
        "print(s[-3])\n",
        "print(s[-6])\n",
        "print(s[-19])\n",
        "print(s[-21])\n",
        "print(s[-25])"
      ],
      "metadata": {
        "colab": {
          "base_uri": "https://localhost:8080/"
        },
        "id": "dtKbR7DdhdGa",
        "outputId": "dd082289-a809-4305-a14b-b31c1a7488ff"
      },
      "execution_count": null,
      "outputs": [
        {
          "output_type": "stream",
          "name": "stdout",
          "text": [
            "i\n",
            "s\n",
            "s\n",
            " \n",
            "l\n"
          ]
        }
      ]
    },
    {
      "cell_type": "code",
      "source": [
        "#string slicing\n",
        "#syntax:substring=s[start:end:step]\n",
        "s=\"hello,world\"\n",
        "print(s[0:5])\n",
        "print(s[1:4])\n",
        "print(s[6:11])\n",
        "print(s[6:10])\n",
        "print(s[0:13])\n",
        "print(s[5:8])"
      ],
      "metadata": {
        "colab": {
          "base_uri": "https://localhost:8080/"
        },
        "id": "x5H4aedql6ab",
        "outputId": "e64f3de5-df13-4a19-eee4-18b996d7a0f7"
      },
      "execution_count": null,
      "outputs": [
        {
          "output_type": "stream",
          "name": "stdout",
          "text": [
            "hello\n",
            "ell\n",
            "world\n",
            "worl\n",
            "hello,world\n",
            ",wo\n"
          ]
        }
      ]
    },
    {
      "cell_type": "code",
      "source": [
        "#Extract characters using negative indices\n",
        "s=\"abcdefghijklmno\"\n",
        "print(s[-12])\n",
        "print(s[-5])\n",
        "print(s[-11])\n",
        "print(s[-4:])\n",
        "print(s[:-5])\n",
        "print(s[-5:-2])\n",
        "print(s[-8:-3:2])\n"
      ],
      "metadata": {
        "colab": {
          "base_uri": "https://localhost:8080/"
        },
        "id": "gian126Hl6d1",
        "outputId": "5a274b04-2044-4127-db24-fa3b0dc58589"
      },
      "execution_count": null,
      "outputs": [
        {
          "output_type": "stream",
          "name": "stdout",
          "text": [
            "d\n",
            "k\n",
            "e\n",
            "lmno\n",
            "abcdefghij\n",
            "klm\n",
            "hjl\n"
          ]
        }
      ]
    },
    {
      "cell_type": "code",
      "source": [
        "#reverse a string using slicing\n",
        "s=\"python is fun\"\n",
        "print(s[::-1])\n",
        "print(s[::1])\n",
        "print(s[:])\n",
        "print(s[::2])\n",
        "print(s[1:8:3])"
      ],
      "metadata": {
        "colab": {
          "base_uri": "https://localhost:8080/"
        },
        "id": "YN77kTMxqza4",
        "outputId": "8bc1aea7-81cb-44f7-c1a7-dfae4a219578"
      },
      "execution_count": null,
      "outputs": [
        {
          "output_type": "stream",
          "name": "stdout",
          "text": [
            "nuf si nohtyp\n",
            "python is fun\n",
            "python is fun\n",
            "pto sfn\n",
            "yoi\n"
          ]
        }
      ]
    },
    {
      "cell_type": "code",
      "source": [
        "#slicing in list\n",
        "l=[1,2,3,4,5]\n",
        "print(l[0:5])\n",
        "print(l[5:8])\n",
        "print(l[1:9:2])\n",
        "print(l[:])\n",
        "print(l[::-1])\n",
        "print(l[::2])\n",
        "print(l[-3:-5:-1])"
      ],
      "metadata": {
        "colab": {
          "base_uri": "https://localhost:8080/"
        },
        "id": "u9EZIauqqzsy",
        "outputId": "596fe46d-f133-442a-ea48-eb013b23f411"
      },
      "execution_count": null,
      "outputs": [
        {
          "output_type": "stream",
          "name": "stdout",
          "text": [
            "[1, 2, 3, 4, 5]\n",
            "[]\n",
            "[2, 4]\n",
            "[1, 2, 3, 4, 5]\n",
            "[5, 4, 3, 2, 1]\n",
            "[1, 3, 5]\n",
            "[3, 2]\n"
          ]
        }
      ]
    },
    {
      "cell_type": "code",
      "source": [
        "#string immutability\n",
        "#methods:concatenation\n",
        "#slicing\n",
        "#formatting\n",
        "s=\"geeksforgeeks\"\n",
        "s=\"G\"+s[1:]\n",
        "print(s)\n",
        "s=\"F\"+s[6:]\n",
        "print(s)\n",
        "s1=\"F\"+s[:]\n",
        "print(s1)\n",
        "#updating a string\n",
        "s1=\"hello geeks\"\n",
        "s2=\"H\"+s1[1:]\n",
        "print(s2)\n",
        "#updating a string\n",
        "s=\"hello rama\"\n",
        "s1=\"H\"+s[1:]\n",
        "print(s1)\n",
        "#relacing a string\n",
        "r=\"hello rama what are you doing?\"\n",
        "r1=r.replace(\"what are you doing?\",\"the demi god\")\n",
        "print(r1)\n",
        "#deleting a string\n",
        "s=\"fun\"\n",
        "del s\n",
        "print(s)"
      ],
      "metadata": {
        "colab": {
          "base_uri": "https://localhost:8080/",
          "height": 280
        },
        "id": "nyPOvncT0Yb0",
        "outputId": "9fdff433-8fcc-4281-b105-d0f5e264e068"
      },
      "execution_count": null,
      "outputs": [
        {
          "output_type": "stream",
          "name": "stdout",
          "text": [
            "Geeksforgeeks\n",
            "Forgeeks\n",
            "FForgeeks\n",
            "Hello geeks\n",
            "Hello rama\n",
            "hello rama the demi god\n"
          ]
        },
        {
          "output_type": "error",
          "ename": "NameError",
          "evalue": "name 's' is not defined",
          "traceback": [
            "\u001b[0;31m---------------------------------------------------------------------------\u001b[0m",
            "\u001b[0;31mNameError\u001b[0m                                 Traceback (most recent call last)",
            "\u001b[0;32m/tmp/ipython-input-563491182.py\u001b[0m in \u001b[0;36m<cell line: 0>\u001b[0;34m()\u001b[0m\n\u001b[1;32m     25\u001b[0m \u001b[0ms\u001b[0m\u001b[0;34m=\u001b[0m\u001b[0;34m\"fun\"\u001b[0m\u001b[0;34m\u001b[0m\u001b[0;34m\u001b[0m\u001b[0m\n\u001b[1;32m     26\u001b[0m \u001b[0;32mdel\u001b[0m \u001b[0ms\u001b[0m\u001b[0;34m\u001b[0m\u001b[0;34m\u001b[0m\u001b[0m\n\u001b[0;32m---> 27\u001b[0;31m \u001b[0mprint\u001b[0m\u001b[0;34m(\u001b[0m\u001b[0ms\u001b[0m\u001b[0;34m)\u001b[0m\u001b[0;34m\u001b[0m\u001b[0;34m\u001b[0m\u001b[0m\n\u001b[0m",
            "\u001b[0;31mNameError\u001b[0m: name 's' is not defined"
          ]
        }
      ]
    },
    {
      "cell_type": "code",
      "source": [
        "#common string methods\n",
        "len()"
      ],
      "metadata": {
        "id": "FLm8BR0W0Yrl"
      },
      "execution_count": null,
      "outputs": []
    },
    {
      "cell_type": "code",
      "source": [],
      "metadata": {
        "id": "ijBMg5fr0Yws"
      },
      "execution_count": null,
      "outputs": []
    },
    {
      "cell_type": "code",
      "source": [],
      "metadata": {
        "id": "ugAwKnK-0Y0W"
      },
      "execution_count": null,
      "outputs": []
    },
    {
      "cell_type": "code",
      "source": [],
      "metadata": {
        "id": "Wl9jJPUu0Y3m"
      },
      "execution_count": null,
      "outputs": []
    },
    {
      "cell_type": "code",
      "source": [],
      "metadata": {
        "id": "mU_pGnAe0Y7T"
      },
      "execution_count": null,
      "outputs": []
    },
    {
      "cell_type": "code",
      "source": [],
      "metadata": {
        "id": "nOVsFVM90ZAr"
      },
      "execution_count": null,
      "outputs": []
    }
  ]
}